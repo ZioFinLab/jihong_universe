{
 "cells": [
  {
   "cell_type": "markdown",
   "id": "a64fa739-090d-4755-978b-e30474397676",
   "metadata": {},
   "source": [
    "# American Put Options with the Binomial Asset Pricing Model \n",
    "\n",
    "Implementation of a simple slow and fast american option pricing model in python. We will treat binomial tree as a network with nodes (i,j) with i representing the time steps and j representing the number of ordered price outcome (lowest - or bottom of tree - to highest). "
   ]
  },
  {
   "cell_type": "code",
   "execution_count": 2,
   "id": "712b2aa3-0c06-4725-9014-0fd29df841c1",
   "metadata": {},
   "outputs": [],
   "source": [
    "import numpy as np\n",
    "import pandas as pd\n",
    "import matplotlib.pyplot as plt\n",
    "from scipy.sparse import csc_matrix\n",
    "from scipy.stats import bernoulli\n",
    "from scipy.optimize import fsolve\n",
    "from scipy.stats import norm\n",
    "from tabulate import tabulate\n",
    "%matplotlib inline"
   ]
  },
  {
   "cell_type": "markdown",
   "id": "e1eead9d-8beb-4872-90a3-634ab7768ad2",
   "metadata": {
    "tags": []
   },
   "source": [
    "# Binomial Tree Representation\n",
    "\n",
    "Stock tree can be represented using nodes (i,j) and intial stock price S0\n",
    "\n",
    "S_{i,j} = S_0u^{j}d^{i-j}\n",
    "\n",
    "C_{i,j} represents contract price at each node (i,j). Where C_{N,j} represents final payoff function that we can define."
   ]
  },
  {
   "cell_type": "markdown",
   "id": "34ded061-67f7-4080-8e5e-4f938aaee674",
   "metadata": {
    "tags": []
   },
   "source": [
    "# American Option Characteristics\n",
    "\n",
    "For an american put option: if T = t_N then at the terminal nodes, C^{j}_N = (K-S^{j}_N)^{+}\n",
    "\n",
    "For all other parts of the tree at nodes (i,j):\n",
    "\n",
    "- Max of exercise value or continuation/hold value\n",
    "\n",
    "- C^{j}_i = max[ (K-S^{j}_i)^{+} , exp^{-r\\Delta t} { q^{j}_i C^{j+1}_{i+1} + (1 - q^{j}_i)C^{j-1}_{i-1}} ]"
   ]
  },
  {
   "cell_type": "code",
   "execution_count": 3,
   "id": "bf6a3aa1-1c50-41bb-b1d3-cd663b4f7378",
   "metadata": {},
   "outputs": [],
   "source": [
    "# Initialise parameters\n",
    "S0 = 10000      # initial stock price\n",
    "K = 10000       # strike price\n",
    "T = 3         # time to maturity in years\n",
    "N = 3         # number of time steps\n",
    "sigma = 0.4  # volatility\n",
    "\n",
    "dt = T/N\n",
    "u = np.exp(sigma * np.sqrt(dt))       # up-factor in binomial models\n",
    "d = 1/u       # ensure recombining tree\n",
    "\n",
    "opttype = 'C' # Option Type 'C' or 'P'\n",
    "rates = pd.read_csv('rates_ex.csv')\n",
    "put_v = pd.read_csv('put_v_ex.csv')\n",
    "call_v = pd.read_csv('call_v_ex.csv')\n",
    "coupon = 200 # 액면이자\n",
    "div = 0\n",
    "\n",
    "ms_strike = pd.read_csv('conversion_price_ms.csv')\n",
    "ms_rates = pd.read_csv('ms_rates_1231.csv')\n"
   ]
  },
  {
   "cell_type": "markdown",
   "id": "ebcd3eb3-1564-4adb-a41c-ba3cf2fbe11c",
   "metadata": {},
   "source": [
    "# Stock Tree"
   ]
  },
  {
   "cell_type": "code",
   "execution_count": 4,
   "id": "5a3a410e-fcdd-4c6c-87bb-41a817ff1248",
   "metadata": {},
   "outputs": [
    {
     "data": {
      "text/plain": [
       "<matplotlib.image.AxesImage at 0x231d53eaf70>"
      ]
     },
     "execution_count": 4,
     "metadata": {},
     "output_type": "execute_result"
    },
    {
     "data": {
      "image/png": "[encoded data removed]",
      "text/plain": [
       "<Figure size 432x288 with 1 Axes>"
      ]
     },
     "metadata": {
      "needs_background": "light"
     },
     "output_type": "display_data"
    }
   ],
   "source": [
    "#  Create some empty matrices to hold our stock and call prices.\n",
    "stock_prices = np.zeros( (N+1, N+1) )\n",
    "\n",
    "#  Put our initial price in the matrix\n",
    "stock_prices[0,0] = S0\n",
    "\n",
    "#  Fill out the remaining values\n",
    "for i in range(1, N+1 ):\n",
    "    M = i + 1\n",
    "    stock_prices[0, i] = u * stock_prices[0, i-1]\n",
    "    for j in range(1, M ):\n",
    "        stock_prices[j, i] = d * stock_prices[j - 1, i - 1]\n",
    " \n",
    "plt.spy(stock_prices)"
   ]
  },
  {
   "cell_type": "code",
   "execution_count": 5,
   "id": "01c495ac-9946-4801-8c61-889fae8dc19d",
   "metadata": {
    "tags": []
   },
   "outputs": [
    {
     "name": "stdout",
     "output_type": "stream",
     "text": [
      "-----  -----  -----  -----\n",
      "10000  14918  22255  33201\n",
      "    0   6703  10000  14918\n",
      "    0      0   4493   6703\n",
      "    0      0      0   3012\n",
      "-----  -----  -----  -----\n"
     ]
    }
   ],
   "source": [
    "print(tabulate(stock_prices.round(0)))\n",
    "\n",
    "#DF = pd.DataFrame(stock_prices)\n",
    "#DF.to_csv(\"1230_stock_prices_0311.csv\")"
   ]
  },
  {
   "cell_type": "markdown",
   "id": "788399c7-c3fb-4a96-85b9-f2cc15071271",
   "metadata": {},
   "source": [
    "# Strike Prices Tree"
   ]
  },
  {
   "cell_type": "code",
   "execution_count": 6,
   "id": "58d91693-fa74-4ac8-ae13-bf80b7a7bb30",
   "metadata": {},
   "outputs": [
    {
     "data": {
      "text/plain": [
       "<matplotlib.image.AxesImage at 0x231d54e2790>"
      ]
     },
     "execution_count": 6,
     "metadata": {},
     "output_type": "execute_result"
    },
    {
     "data": {
      "image/png": "[encoded data removed]",
      "text/plain": [
       "<Figure size 432x288 with 1 Axes>"
      ]
     },
     "metadata": {
      "needs_background": "light"
     },
     "output_type": "display_data"
    }
   ],
   "source": [
    "#  Create some empty matrices to hold our stock and call prices.\n",
    "K_prices = np.zeros( (N+1, N+1) )\n",
    "\n",
    "# 자체 산출한 값\n",
    "#  Put our initial price in the matrix\n",
    "K_prices[0,0] = K\n",
    "\"\"\"\n",
    "#  Fill out the remaining values\n",
    "for i in range(0, N+1 ):\n",
    "    M = i + 1\n",
    "    if i < 5: # 한 달 동안은 리픽싱을 적용하지 않음\n",
    "        for j in range(0, M ):\n",
    "            K_prices[j, i] = K\n",
    "            \n",
    "    else:  # 한 달 이후에는 모두 적용됨\n",
    "        for j in range(0, M ):\n",
    "            if stock_prices[j, i] <= K:\n",
    "                K_prices[j, i] = max(stock_prices[j, i], K*70/100)\n",
    "            else:\n",
    "                K_prices[j, i] = K\n",
    "\"\"\"\n",
    "\n",
    "# 기간과 무관하게 동일한 전환가격 적용\n",
    "for i in range(0, N+1 ):\n",
    "    M = i + 1\n",
    "    for j in range(0, M ):\n",
    "        K_prices[j, i] = K\n",
    "        \n",
    "\"\"\"\n",
    "# MS 값 그대로 적용시\n",
    "for i in range(0, N+1 ):\n",
    "    M = i + 1\n",
    "    for j in range(0, M ):\n",
    "        K_prices[j, i] = ms_strike.iloc[j,i]\n",
    "\"\"\"\n",
    "plt.spy(K_prices)"
   ]
  },
  {
   "cell_type": "code",
   "execution_count": 7,
   "id": "396aa940-d66d-4ec6-a8fc-a51238c99d52",
   "metadata": {},
   "outputs": [
    {
     "name": "stdout",
     "output_type": "stream",
     "text": [
      "-----  -----  -----  -----\n",
      "10000  10000  10000  10000\n",
      "    0  10000  10000  10000\n",
      "    0      0  10000  10000\n",
      "    0      0      0  10000\n",
      "-----  -----  -----  -----\n"
     ]
    }
   ],
   "source": [
    "print(tabulate(K_prices.round(0)))\n",
    "#DF = pd.DataFrame(K_prices)\n",
    "#DF.to_csv(\"1231_K_prices_0304.csv\")"
   ]
  },
  {
   "cell_type": "markdown",
   "id": "bdb27bfc-8aaa-48dc-9b81-50eb060de7dd",
   "metadata": {},
   "source": [
    "# Put bond price"
   ]
  },
  {
   "cell_type": "code",
   "execution_count": 8,
   "id": "6343c51d-5f03-4594-8435-acea34d1e070",
   "metadata": {},
   "outputs": [
    {
     "name": "stdout",
     "output_type": "stream",
     "text": [
      "[0 0 10800 11100]\n"
     ]
    },
    {
     "data": {
      "text/plain": [
       "<matplotlib.image.AxesImage at 0x231d555aee0>"
      ]
     },
     "execution_count": 8,
     "metadata": {},
     "output_type": "execute_result"
    },
    {
     "data": {
      "image/png": "[encoded data removed]",
      "text/plain": [
       "<Figure size 432x288 with 1 Axes>"
      ]
     },
     "metadata": {
      "needs_background": "light"
     },
     "output_type": "display_data"
    }
   ],
   "source": [
    "#  Create some empty matrices to hold our stock and call prices.\n",
    "p_prices = np.zeros( (N+1, N+1) )\n",
    "put_ar = put_v.iloc[0,1:].to_numpy()\n",
    "p_interval = 0\n",
    "print(put_ar)\n",
    "\n",
    "#  Fill out the remaining values\n",
    "for i in range(1, N+1):\n",
    "    M = i + 1\n",
    "    if i >= 2: # 상환권 행사 가능 이후에만 고려함\n",
    "        if i == 2: # 상환권 행사할 수 있는 최초 시기\n",
    "            p_prices[0,i] = put_ar[i] # 다시 바꾸면 put_ar[i]를 put_ar[p_interval]로\n",
    "            p_interval += 1\n",
    "            for j in range(1, M ):\n",
    "                p_prices[j, i] = p_prices[j-1 , i]\n",
    "        \n",
    "        elif i % 3 == 0:  # 상환권 행사가 12주 마다 가능함\n",
    "            p_prices[0,i] = put_ar[i] # 다시 바꾸면 put_ar[i]를 put_ar[p_interval]로\n",
    "            p_interval += 1\n",
    "            for j in range(1, M ):\n",
    "                p_prices[j, i] = p_prices[j-1 , i]\n",
    "        \n",
    "plt.spy(p_prices)"
   ]
  },
  {
   "cell_type": "code",
   "execution_count": 9,
   "id": "490a8492-41ce-4fbe-86fa-5331a9527126",
   "metadata": {},
   "outputs": [
    {
     "name": "stdout",
     "output_type": "stream",
     "text": [
      "-  -  -----  -----\n",
      "0  0  10800  11100\n",
      "0  0  10800  11100\n",
      "0  0  10800  11100\n",
      "0  0      0  11100\n",
      "-  -  -----  -----\n"
     ]
    }
   ],
   "source": [
    "print(tabulate(p_prices.round(0)))\n",
    "#DF = pd.DataFrame(p_prices)\n",
    "#DF.to_csv(\"1231_p_prices_0304.csv\")"
   ]
  },
  {
   "cell_type": "markdown",
   "id": "bbd8c592-cfec-4a02-beec-a385b969c123",
   "metadata": {},
   "source": [
    "# Call bond price"
   ]
  },
  {
   "cell_type": "code",
   "execution_count": 10,
   "id": "453cd4b7-2269-4b1c-8cd5-734868b8580b",
   "metadata": {},
   "outputs": [
    {
     "data": {
      "text/plain": [
       "<matplotlib.image.AxesImage at 0x231d55bbbe0>"
      ]
     },
     "execution_count": 10,
     "metadata": {},
     "output_type": "execute_result"
    },
    {
     "data": {
      "image/png": "[encoded data removed]",
      "text/plain": [
       "<Figure size 432x288 with 1 Axes>"
      ]
     },
     "metadata": {
      "needs_background": "light"
     },
     "output_type": "display_data"
    }
   ],
   "source": [
    "#  Create some empty matrices to hold our stock and call prices.\n",
    "c_prices = np.zeros( (N+1, N+1) )\n",
    "call_ar = call_v.iloc[0,1:].to_numpy()\n",
    "c_interval = 0\n",
    "\n",
    "#  Fill out the remaining values\n",
    "for i in range(1, N+1):\n",
    "    M = i + 1\n",
    "    if i >= 2: # 상환권 행사 가능 이후에만 고려함\n",
    "        #if i == 2: # 상환권 행사할 수 있는 최초 시기\n",
    "        c_prices[0,i] = call_ar[i] # 다시 바꾸면 put_ar[i]를 put_ar[p_interval]로\n",
    "        #p_interval += 1 예제에서는 그냥 바로 적용하니까 안씀\n",
    "        for j in range(1, M ):\n",
    "            c_prices[j, i] = c_prices[j-1 , i]\n",
    "        \n",
    "plt.spy(c_prices)"
   ]
  },
  {
   "cell_type": "code",
   "execution_count": 11,
   "id": "bf1b64d0-8265-4daa-a447-748342c3f862",
   "metadata": {},
   "outputs": [
    {
     "name": "stdout",
     "output_type": "stream",
     "text": [
      "-  -  -----  -\n",
      "0  0  10800  0\n",
      "0  0  10800  0\n",
      "0  0  10800  0\n",
      "0  0      0  0\n",
      "-  -  -----  -\n"
     ]
    }
   ],
   "source": [
    "print(tabulate(c_prices.round(0)))\n",
    "#DF = pd.DataFrame(p_prices)\n",
    "#DF.to_csv(\"c_prices.csv\")"
   ]
  },
  {
   "cell_type": "markdown",
   "id": "8f5444be-07b9-4003-a0ef-a28b95f8e611",
   "metadata": {},
   "source": [
    "# Interest Rates Trees"
   ]
  },
  {
   "cell_type": "code",
   "execution_count": 12,
   "id": "bd8bb986-41f6-4857-a5df-d63da2d88d13",
   "metadata": {},
   "outputs": [
    {
     "name": "stdout",
     "output_type": "stream",
     "text": [
      "---  ---  ---  ---\n",
      "0.1  0.1  0.1  0.1\n",
      "0    0.1  0.1  0.1\n",
      "0    0    0.1  0.1\n",
      "0    0    0    0.1\n",
      "---  ---  ---  ---\n"
     ]
    },
    {
     "data": {
      "text/plain": [
       "'\\n# 회사제시 값 그대로 적용시\\nfor i in range(0, N+1 ):\\n    M = i + 1\\n    for j in range(0, M ):\\n        rf_matrix[j, i] = ms_rates.iloc[j,i]\\n'"
      ]
     },
     "execution_count": 12,
     "metadata": {},
     "output_type": "execute_result"
    },
    {
     "data": {
      "image/png": "[encoded data removed]",
      "text/plain": [
       "<Figure size 432x288 with 1 Axes>"
      ]
     },
     "metadata": {
      "needs_background": "light"
     },
     "output_type": "display_data"
    }
   ],
   "source": [
    "# Forward rate 0행이 rd, 1행이 rf로 구성했음, 초기세팅\n",
    "rd = rates.iloc[0,1:].to_numpy()\n",
    "rf = rates.iloc[1,1:].to_numpy()\n",
    "\n",
    "rd_matrix = np.zeros( (N+1, N+1) )\n",
    "\n",
    "# rd TF논리대로 적용\n",
    "rd_matrix[0,0] = rd[0]\n",
    "\n",
    "for i in range(1, N+1 ):\n",
    "    M = i + 1\n",
    "    rd_matrix[0, i] = rd[i]\n",
    "    for j in range(1, M ):\n",
    "        rd_matrix[j, i] = rd_matrix[j-1, i]\n",
    "\n",
    "\"\"\"\n",
    "# 회사제시 값 그대로 적용시\n",
    "for i in range(0, N+1 ):\n",
    "    M = i + 1\n",
    "    for j in range(0, M ):\n",
    "        rd_matrix[j, i] = ms_rates.iloc[j,i]\n",
    "\n",
    "\"\"\"\n",
    "\n",
    "plt.spy(rd_matrix)\n",
    "print(tabulate(rd_matrix.round(4)))\n",
    "#DF = pd.DataFrame(rd_matrix)\n",
    "#DF.to_csv(\"1231_rd_matrix_0304.csv\")\n",
    "\n",
    "\n",
    "rf_matrix = np.zeros( (N+1, N+1) )\n",
    "\n",
    "# rf TF논리대로 적용\n",
    "rf_matrix[0,0] = rf[0]\n",
    "\n",
    "for i in range(1, N+1 ):\n",
    "    M = i + 1\n",
    "    rf_matrix[0, i] = rf[i]\n",
    "    for j in range(1, M ):\n",
    "        rf_matrix[j, i] = rf_matrix[j - 1, i]\n",
    "\n",
    "\"\"\"\n",
    "# 회사제시 값 그대로 적용시\n",
    "for i in range(0, N+1 ):\n",
    "    M = i + 1\n",
    "    for j in range(0, M ):\n",
    "        rf_matrix[j, i] = ms_rates.iloc[j,i]\n",
    "\"\"\""
   ]
  },
  {
   "cell_type": "code",
   "execution_count": 13,
   "id": "f0fa58c3-0695-4fba-8e96-8cd941a55ee1",
   "metadata": {},
   "outputs": [
    {
     "name": "stdout",
     "output_type": "stream",
     "text": [
      "----  ----  ----  ----\n",
      "0.02  0.02  0.02  0.02\n",
      "0     0.02  0.02  0.02\n",
      "0     0     0.02  0.02\n",
      "0     0     0     0.02\n",
      "----  ----  ----  ----\n"
     ]
    },
    {
     "data": {
      "image/png": "[encoded data removed]",
      "text/plain": [
       "<Figure size 432x288 with 1 Axes>"
      ]
     },
     "metadata": {
      "needs_background": "light"
     },
     "output_type": "display_data"
    }
   ],
   "source": [
    "plt.spy(rf_matrix)\n",
    "print(tabulate(rf_matrix.round(4)))\n",
    "#DF = pd.DataFrame(rf_matrix)\n",
    "#DF.to_csv(\"1231_rf_matrix_0304.csv\")"
   ]
  },
  {
   "cell_type": "markdown",
   "id": "45ea65d2-a67f-48ab-b0c2-1fbe1ca4d14f",
   "metadata": {},
   "source": [
    "# Q-Value Tree"
   ]
  },
  {
   "cell_type": "code",
   "execution_count": 14,
   "id": "5fc220c2-4b8b-4f11-bd38-e755d391bbbd",
   "metadata": {},
   "outputs": [
    {
     "data": {
      "text/plain": [
       "<matplotlib.image.AxesImage at 0x231d56c9970>"
      ]
     },
     "execution_count": 14,
     "metadata": {},
     "output_type": "execute_result"
    },
    {
     "data": {
      "image/png": "[encoded data removed]",
      "text/plain": [
       "<Figure size 432x288 with 1 Axes>"
      ]
     },
     "metadata": {
      "needs_background": "light"
     },
     "output_type": "display_data"
    }
   ],
   "source": [
    "q_value = np.zeros( (N+1, N+1) )\n",
    "\n",
    "# 본래 변동되는 rf를 기준으로 계산한 q 값\n",
    "#  Fill out the remaining values\n",
    "for i in range(1, N+1 ):\n",
    "    M = i + 1\n",
    "    q_value[0, i] = (np.exp(rf_matrix[0,i]*dt) - d)/(u-d)\n",
    "    for j in range(1, M ):\n",
    "        q_value[j, i] = (np.exp(rf_matrix[j,i]*dt) - d)/(u-d)\n",
    "\"\"\"\n",
    "for i in range(0, N+1 ):\n",
    "    M = i + 1\n",
    "    for j in range(0, M ):\n",
    "        q_value[j, i] = ms_q_value.iloc[j,i]\n",
    "\"\"\"\n",
    "\n",
    "plt.spy(q_value)"
   ]
  },
  {
   "cell_type": "code",
   "execution_count": 15,
   "id": "6ad615f6-d4bf-43a4-b865-7a00c762760e",
   "metadata": {
    "tags": []
   },
   "outputs": [
    {
     "name": "stdout",
     "output_type": "stream",
     "text": [
      "-  ------  ------  ------\n",
      "0  0.4259  0.4259  0.4259\n",
      "0  0.4259  0.4259  0.4259\n",
      "0  0       0.4259  0.4259\n",
      "0  0       0       0.4259\n",
      "-  ------  ------  ------\n"
     ]
    }
   ],
   "source": [
    "print(tabulate(q_value.round(4)))\n",
    "#DF = pd.DataFrame(q_value)\n",
    "#DF.to_csv(\"1231_q_value_0304_2.csv\")"
   ]
  },
  {
   "cell_type": "markdown",
   "id": "7787fde2-69f8-48ae-a684-0815a8324c6c",
   "metadata": {},
   "source": [
    "# Equity Value & Debt Value & Holding Value & Convertible Bond"
   ]
  },
  {
   "cell_type": "code",
   "execution_count": 25,
   "id": "c9053538-5168-486a-a752-ed3cc27a72ea",
   "metadata": {},
   "outputs": [],
   "source": [
    "# 만기 시점 가치 각각 세팅\n",
    "eq_value = np.zeros( (N+1, N+1) )\n",
    "for i in range(0, N+1):\n",
    "    if stock_prices[i, N] > p_prices[i, N]:\n",
    "        eq_value[i, N] = (stock_prices[i, N]*K)/K_prices[i, N]\n",
    "    else:\n",
    "        eq_value[i, N] = 0\n",
    "\n",
    "db_value = np.zeros( (N+1, N+1) )\n",
    "for i in range(0, N+1):\n",
    "    if stock_prices[i, N] > p_prices[i, N]:\n",
    "        db_value[i, N] = 0\n",
    "    else:\n",
    "        db_value[i, N] = p_prices[i, N]\n",
    "\n",
    "hp_value = np.zeros( (N+1, N+1) )\n",
    "for i in range(0, N+1):\n",
    "    hp_value[i, N] = eq_value[i, N] + db_value[i, N]\n",
    "\n",
    "\n",
    "cb_value = np.zeros( (N+1, N+1) )\n",
    "for i in range(0, N+1):\n",
    "    if c_prices[i, N] != 0: cb_value[i,N] = max(min(hp_value[i,N], c_prices[i,N]), (stock_prices[i,N]*K)/K_prices[i,N], p_prices[i,N]) # Callable option이 있을 때만 활성화\n",
    "    else: cb_value[i, N] = max(hp_value[i,N], (stock_prices[i,N]*K)/K_prices[i,N], p_prices[i,N]) # call 없을 때 적용 가격\n",
    "\n",
    "\n",
    "#  Fill out the remaining values\n",
    "for i in range( N-1, -1, -1 ):\n",
    "    for j in range( 0, i+1 ):\n",
    "        if i==0 and j==0: coupon = 0 # 기초에는 coupon을 받지 않음\n",
    "        # Holding Value 먼저 계산해줌\n",
    "        hp_value[j, i] = ( eq_value[j,i+1]*q_value[j,i+1] + eq_value[j+1,i+1]*(1-q_value[j+1,i+1]) )*np.exp(-rf_matrix[j+1,i+1]*dt)+ \\\n",
    "                         ( db_value[j,i+1]*q_value[j,i+1] + db_value[j+1,i+1]*(1-q_value[j+1,i+1]) )*np.exp(-rd_matrix[j+1,i+1]*dt)+  coupon\n",
    "        # 계산된 Holding Value기준으로 최종가치산출\n",
    "        if c_prices[j, i] != 0: cb_value[j, i] = max(min(hp_value[j,i], c_prices[j, i]), (stock_prices[j,i]*K)/K_prices[j,i], p_prices[j,i]) # Callable option이 있을 때만 활성화\n",
    "        else: cb_value[j, i] = max(hp_value[j,i], (stock_prices[j,i]*K)/K_prices[j,i], p_prices[j,i]) # call 없을 때 적용 가격\n",
    "        \n",
    "        # Equity Value 산출, 앞서 계산된 최종가치에 따라 값이 변동 됨: 주식가치 - 주식가치/ 조기상환 등 - 0/ Holding Value - Equity Value의 이전 노드 할인금액\n",
    "        if cb_value[j, i] == (stock_prices[j,i]*K)/K_prices[j,i]:\n",
    "            eq_value[j, i] = (stock_prices[j,i]*K)/K_prices[j,i]\n",
    "        elif cb_value[j, i] == hp_value[j,i]:\n",
    "            eq_value[j, i] = ( eq_value[j,i+1]*q_value[j,i+1] + eq_value[j+1,i+1]*(1-q_value[j+1,i+1]) )*np.exp(-rf_matrix[j+1,i+1]*dt)\n",
    "        else:\n",
    "            eq_value[j, i] = 0\n",
    "        \n",
    "        # Debt Value 산출, Equity Value와 반대\n",
    "        if cb_value[j, i] == (stock_prices[j,i]*K)/K_prices[j,i]:\n",
    "            db_value[j, i] = 0\n",
    "        elif cb_value[j, i] == hp_value[j, i]:\n",
    "            db_value[j, i] = ( db_value[j, i+1]*q_value[j, i+1] + db_value[j+1, i+1]*(1-q_value[j+1, i+1]) )*np.exp(-rd_matrix[j+1, i+1]*dt) + coupon\n",
    "        elif cb_value[j, i] == c_prices[j, i]:\n",
    "            db_value[j, i] = c_prices[j, i]\n",
    "        elif cb_value[j, i] == p_prices[j, i]:\n",
    "            db_value[j, i] = p_prices[j, i]\n",
    "                    \n",
    "coupon = 200 # 재검증의 오류를 방지하기 위해 쿠폰을 재설정함"
   ]
  },
  {
   "cell_type": "code",
   "execution_count": 26,
   "id": "0f6e1293-cd65-4927-b8aa-f79ea3903652",
   "metadata": {},
   "outputs": [
    {
     "name": "stdout",
     "output_type": "stream",
     "text": [
      "-----  -----  -----  -----\n",
      "11298  15101  22455  33201\n",
      "    0   9972  12194  14918\n",
      "    0      0  10244  11100\n",
      "    0      0      0  11100\n",
      "-----  -----  -----  -----\n"
     ]
    },
    {
     "data": {
      "text/plain": [
       "<matplotlib.image.AxesImage at 0x231d5ef07c0>"
      ]
     },
     "execution_count": 26,
     "metadata": {},
     "output_type": "execute_result"
    },
    {
     "data": {
      "image/png": "[encoded data removed]",
      "text/plain": [
       "<Figure size 432x288 with 1 Axes>"
      ]
     },
     "metadata": {
      "needs_background": "light"
     },
     "output_type": "display_data"
    }
   ],
   "source": [
    "print(tabulate(hp_value.round(0)))\n",
    "#DF = pd.DataFrame(hp_value)\n",
    "#DF.to_csv(\"1231_hp_value_0304.csv\")\n",
    "plt.spy(hp_value)"
   ]
  },
  {
   "cell_type": "code",
   "execution_count": 22,
   "id": "e738b30c-3cdf-415d-a3b2-9b5914967d34",
   "metadata": {},
   "outputs": [
    {
     "name": "stdout",
     "output_type": "stream",
     "text": [
      "-----  -----  -----  -----\n",
      "11298  15101  22255  33201\n",
      "    0   9972  10800  14918\n",
      "    0      0  10800  11100\n",
      "    0      0      0  11100\n",
      "-----  -----  -----  -----\n"
     ]
    },
    {
     "data": {
      "image/png": "[encoded data removed]",
      "text/plain": [
       "<Figure size 432x288 with 1 Axes>"
      ]
     },
     "metadata": {
      "needs_background": "light"
     },
     "output_type": "display_data"
    }
   ],
   "source": [
    "plt.spy(cb_value)\n",
    "print(tabulate(cb_value.round(0)))\n",
    "#DF = pd.DataFrame(cb_value)\n",
    "#DF.to_csv(\"1231_cb_value_0304.csv\")"
   ]
  },
  {
   "cell_type": "code",
   "execution_count": 23,
   "id": "70208b10-09d7-4908-9e5f-336fd8c95fce",
   "metadata": {},
   "outputs": [
    {
     "name": "stdout",
     "output_type": "stream",
     "text": [
      "----  ----  -----  -----\n",
      "3879  9291  22255  33201\n",
      "   0     0      0  14918\n",
      "   0     0      0      0\n",
      "   0     0      0      0\n",
      "----  ----  -----  -----\n"
     ]
    },
    {
     "data": {
      "text/plain": [
       "<matplotlib.image.AxesImage at 0x231d5694190>"
      ]
     },
     "execution_count": 23,
     "metadata": {},
     "output_type": "execute_result"
    },
    {
     "data": {
      "image/png": "[encoded data removed]",
      "text/plain": [
       "<Figure size 432x288 with 1 Axes>"
      ]
     },
     "metadata": {
      "needs_background": "light"
     },
     "output_type": "display_data"
    }
   ],
   "source": [
    "print(tabulate(eq_value.round(0)))\n",
    "plt.spy(eq_value)"
   ]
  },
  {
   "cell_type": "code",
   "execution_count": 24,
   "id": "b37f5b78-517c-4fb7-b94e-b9f5c20a8b3d",
   "metadata": {},
   "outputs": [
    {
     "name": "stdout",
     "output_type": "stream",
     "text": [
      "----  ----  -----  -----\n",
      "7419  5810      0      0\n",
      "   0  9972  10800      0\n",
      "   0     0  10800  11100\n",
      "   0     0      0  11100\n",
      "----  ----  -----  -----\n"
     ]
    },
    {
     "data": {
      "text/plain": [
       "<matplotlib.image.AxesImage at 0x231d5795490>"
      ]
     },
     "execution_count": 24,
     "metadata": {},
     "output_type": "execute_result"
    },
    {
     "data": {
      "image/png": "[encoded data removed]",
      "text/plain": [
       "<Figure size 432x288 with 1 Axes>"
      ]
     },
     "metadata": {
      "needs_background": "light"
     },
     "output_type": "display_data"
    }
   ],
   "source": [
    "print(tabulate(db_value.round(0)))\n",
    "plt.spy(db_value)"
   ]
  },
  {
   "cell_type": "code",
   "execution_count": 159,
   "id": "e4df04d4-be41-4786-8178-414bdd37ee8d",
   "metadata": {},
   "outputs": [],
   "source": [
    "#print(tabulate(cb_value.round(0)))"
   ]
  },
  {
   "cell_type": "code",
   "execution_count": 47,
   "id": "74873908-6f73-42c5-87ff-9ca998e07d60",
   "metadata": {
    "collapsed": true,
    "jupyter": {
     "outputs_hidden": true,
     "source_hidden": true
    }
   },
   "outputs": [
    {
     "data": {
      "text/plain": [
       "\"\\ndt = T/N\\n\\nq = (np.exp(rf*dt) - d)/(u-d)\\ndisc = np.exp(-rf*dt)\\n\\n\\n# option payoff \\ncall_prices = np.zeros( (N+1, N+1) )\\nfor j in range(0, N+1):\\n    C[j] = max(0, S[j] - K)\\n    \\n# backward recursion through the tree\\nfor i in np.arange(N-1,-1,-1):\\n    for j in range(0,i+1):\\n        S = S0 * u**j * d**(i-j)\\n        C[j] = disc * ( q*C[j+1] + (1-q)*C[j] )\\n        if opttype == 'P':\\n            C[j] = max(C[j], K - S)\\n        else:\\n            C[j] = max(C[j], S - K)\\n\""
      ]
     },
     "execution_count": 47,
     "metadata": {},
     "output_type": "execute_result"
    }
   ],
   "source": [
    "\"\"\"\n",
    "dt = T/N\n",
    "\n",
    "q = (np.exp(rf*dt) - d)/(u-d)\n",
    "disc = np.exp(-rf*dt)\n",
    "\n",
    "\n",
    "# option payoff \n",
    "call_prices = np.zeros( (N+1, N+1) )\n",
    "for j in range(0, N+1):\n",
    "    C[j] = max(0, S[j] - K)\n",
    "    \n",
    "# backward recursion through the tree\n",
    "for i in np.arange(N-1,-1,-1):\n",
    "    for j in range(0,i+1):\n",
    "        S = S0 * u**j * d**(i-j)\n",
    "        C[j] = disc * ( q*C[j+1] + (1-q)*C[j] )\n",
    "        if opttype == 'P':\n",
    "            C[j] = max(C[j], K - S)\n",
    "        else:\n",
    "            C[j] = max(C[j], S - K)\n",
    "\"\"\""
   ]
  },
  {
   "cell_type": "code",
   "execution_count": 5,
   "id": "4ad5fb74-4ac6-48c2-b513-927e4c43392c",
   "metadata": {
    "collapsed": true,
    "jupyter": {
     "outputs_hidden": true,
     "source_hidden": true
    },
    "tags": []
   },
   "outputs": [
    {
     "data": {
      "text/plain": [
       "4.654588754602527"
      ]
     },
     "execution_count": 5,
     "metadata": {},
     "output_type": "execute_result"
    }
   ],
   "source": [
    "def american_fast_tree(K,T,S0,r,N,u,d,opttype='P'):\n",
    "    #precompute values\n",
    "    dt = T/N\n",
    "    q = (np.exp(r*dt) - d)/(u-d)\n",
    "    disc = np.exp(-r*dt)\n",
    "    \n",
    "    # initialise stock prices at maturity\n",
    "    S = S0 * d**(np.arange(N,-1,-1)) * u**(np.arange(0,N+1,1))\n",
    "        \n",
    "    # option payoff \n",
    "    if opttype == 'P':\n",
    "        C = np.maximum(0, K - S)\n",
    "    else:\n",
    "        C = np.maximum(0, S - K)\n",
    "    \n",
    "    # backward recursion through the tree\n",
    "    for i in np.arange(N-1,-1,-1):\n",
    "        S = S0 * d**(np.arange(i,-1,-1)) * u**(np.arange(0,i+1,1))\n",
    "        C[:i+1] = disc * ( q*C[1:i+2] + (1-q)*C[0:i+1] )\n",
    "        C = C[:-1]\n",
    "        if opttype == 'P':\n",
    "            C = np.maximum(C, K - S)\n",
    "        else:\n",
    "            C = np.maximum(C, S - K)\n",
    "                \n",
    "    return C[0]\n",
    "\n",
    "american_fast_tree(K,T,S0,r,N,u,d,opttype='P')"
   ]
  },
  {
   "cell_type": "code",
   "execution_count": null,
   "id": "dd9bee50-7fa5-4918-be3a-5b455ef69652",
   "metadata": {},
   "outputs": [],
   "source": []
  }
 ],
 "metadata": {
  "kernelspec": {
   "display_name": "Python 3 (ipykernel)",
   "language": "python",
   "name": "python3"
  },
  "language_info": {
   "codemirror_mode": {
    "name": "ipython",
    "version": 3
   },
   "file_extension": ".py",
   "mimetype": "text/x-python",
   "name": "python",
   "nbconvert_exporter": "python",
   "pygments_lexer": "ipython3",
   "version": "3.9.6"
  }
 },
 "nbformat": 4,
 "nbformat_minor": 5
}
