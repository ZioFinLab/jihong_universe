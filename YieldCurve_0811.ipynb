{
 "cells": [
  {
   "cell_type": "code",
   "execution_count": 78,
   "id": "8740f299-6f5e-4fa0-99d0-1cb0f8737409",
   "metadata": {},
   "outputs": [],
   "source": [
    "import numpy as np\n",
    "import pandas as pd\n",
    "import matplotlib.pyplot as plt\n",
    "from scipy.sparse import csc_matrix\n",
    "from scipy.stats import bernoulli\n",
    "from scipy.optimize import fsolve\n",
    "from scipy.stats import norm\n",
    "from tabulate import tabulate\n",
    "%matplotlib inline\n",
    "import datetime\n",
    "from datetime import timedelta, date\n",
    "from dateutil.relativedelta import relativedelta\n",
    "import math"
   ]
  },
  {
   "cell_type": "code",
   "execution_count": 20,
   "id": "f2f8d6b3-20a1-420f-a6f3-c23228b6fb14",
   "metadata": {},
   "outputs": [],
   "source": [
    "ytm_raw = pd.read_excel('YTM_시계열 정보.xlsx', sheet_name='2017.05.16_BB-_YTM').set_index('일자') # 시트 이름 바꾸면 됩니다\n",
    "# 시계열 정보에서 이자율이 표시되지 않은 부분은 열 자체를 삭제해야 작동합니다 ex) 30Y나 50Y의 이자율이 '-'인 경우 str 이어서 처리가 어려움\n",
    "target_date = \"2017-05-16\"\n",
    "mature_date = \"2027-05-15\"\n",
    "# 날짜들을 datetime형식으로 가져와서 days, months 처리를 용이하게 만듦\n",
    "start_date = datetime.datetime.strptime(target_date[2:], \"%y-%m-%d\").date()\n",
    "end_date = datetime.datetime.strptime(mature_date[2:], \"%y-%m-%d\").date()\n",
    "interval = 4 # 연간 이자 지급 횟수\n",
    "ytm = ytm_raw.loc[target_date,:] # 해당 날짜의 데이터만 가져옴"
   ]
  },
  {
   "cell_type": "code",
   "execution_count": 21,
   "id": "98833b57-7ca1-4c07-922f-90e90732230e",
   "metadata": {},
   "outputs": [],
   "source": [
    "df_ytm = ytm.to_frame()\n",
    "# 시작점 데이터를 맨 앞줄로 넣어줌\n",
    "df_ytm.loc['0M']=[float(df_ytm.iloc[0][0])]\n",
    "newIndex=['0M']+[idx for idx in df_ytm.index if idx!='0M']\n",
    "df_ytm=df_ytm.reindex(index=newIndex)"
   ]
  },
  {
   "cell_type": "code",
   "execution_count": 22,
   "id": "b84c0d08-33b9-450a-9824-67f7a54695d0",
   "metadata": {},
   "outputs": [
    {
     "name": "stdout",
     "output_type": "stream",
     "text": [
      "      2017-05-16  month\n",
      "0M         7.321    0.0\n",
      "3M         7.321    3.0\n",
      "6M         8.166    6.0\n",
      "9M         8.917    9.0\n",
      "1Y         9.557   12.0\n",
      "1.5Y      10.365   18.0\n",
      "2Y        11.283   24.0\n",
      "2.5Y      12.007   30.0\n",
      "3Y        12.803   36.0\n",
      "4Y        13.248   48.0\n",
      "5Y        13.623   60.0\n",
      "7Y        14.229   84.0\n",
      "10Y       14.711  120.0\n",
      "15Y       15.460  180.0\n",
      "20Y       15.917  240.0\n"
     ]
    }
   ],
   "source": [
    "# 분기별 이자지급을 가정했으므로 분기별로 날짜 정리, 기존 방법 말고 실제 3개월 날짜로 했음\n",
    "cal_month = []\n",
    "for i in df_ytm.index:\n",
    "    if 'M' in i:\n",
    "        m = i.replace('M','')\n",
    "        m_int = int(m)\n",
    "        cal_month.append(m_int)\n",
    "    if 'Y' in i:\n",
    "        y = i.replace('Y','')\n",
    "        y_diff = float(y)\n",
    "        cal_month.append(round(y_diff*12,0))\n",
    "\n",
    "df_ytm['month'] = cal_month\n",
    "print(df_ytm)"
   ]
  },
  {
   "cell_type": "code",
   "execution_count": 23,
   "id": "507c68dc-6ebe-4690-964f-be67acfde47c",
   "metadata": {},
   "outputs": [
    {
     "name": "stdout",
     "output_type": "stream",
     "text": [
      "            2017-05-16  month\n",
      "date                         \n",
      "2017-05-16       7.321    0.0\n",
      "2017-08-16       7.321    3.0\n",
      "2017-11-16       8.166    6.0\n",
      "2018-02-16       8.917    9.0\n",
      "2018-05-16       9.557   12.0\n",
      "2018-11-16      10.365   18.0\n",
      "2019-05-16      11.283   24.0\n",
      "2019-11-16      12.007   30.0\n",
      "2020-05-16      12.803   36.0\n",
      "2021-05-16      13.248   48.0\n",
      "2022-05-16      13.623   60.0\n",
      "2024-05-16      14.229   84.0\n",
      "2027-05-16      14.711  120.0\n",
      "2032-05-16      15.460  180.0\n",
      "2037-05-16      15.917  240.0\n"
     ]
    }
   ],
   "source": [
    "dates = []\n",
    "for i in df_ytm['month']:\n",
    "    distance = start_date + relativedelta(months = i)\n",
    "    dates.append(distance)\n",
    "df_ytm['date'] = dates\n",
    "df_ytm = df_ytm.set_index(\"date\")\n",
    "print(df_ytm)"
   ]
  },
  {
   "cell_type": "code",
   "execution_count": 24,
   "id": "2ae2455a-6cda-4d16-b464-a098d2eaa4c9",
   "metadata": {},
   "outputs": [
    {
     "name": "stdout",
     "output_type": "stream",
     "text": [
      "            2017-05-16  month  int_diff  month_diff\n",
      "date                                               \n",
      "2017-05-16       7.321    0.0     0.000         0.0\n",
      "2017-08-16       7.321    3.0     0.000         3.0\n",
      "2017-11-16       8.166    6.0     0.845         3.0\n",
      "2018-02-16       8.917    9.0     0.751         3.0\n",
      "2018-05-16       9.557   12.0     0.640         3.0\n",
      "2018-11-16      10.365   18.0     0.808         6.0\n",
      "2019-05-16      11.283   24.0     0.918         6.0\n",
      "2019-11-16      12.007   30.0     0.724         6.0\n",
      "2020-05-16      12.803   36.0     0.796         6.0\n",
      "2021-05-16      13.248   48.0     0.445        12.0\n",
      "2022-05-16      13.623   60.0     0.375        12.0\n",
      "2024-05-16      14.229   84.0     0.606        24.0\n",
      "2027-05-16      14.711  120.0     0.482        36.0\n",
      "2032-05-16      15.460  180.0     0.749        60.0\n",
      "2037-05-16      15.917  240.0     0.457        60.0\n"
     ]
    }
   ],
   "source": [
    "df_ytm['int_diff'] = df_ytm[target_date].diff().fillna(0)\n",
    "df_ytm['month_diff'] = df_ytm['month'].diff().fillna(0)\n",
    "print(df_ytm)"
   ]
  },
  {
   "cell_type": "code",
   "execution_count": 27,
   "id": "9fafe1ec-6263-44df-ac23-7ff884620213",
   "metadata": {},
   "outputs": [
    {
     "name": "stdout",
     "output_type": "stream",
     "text": [
      "            2017-05-16  month  int_diff  month_diff  diff_per_month\n",
      "date                                                               \n",
      "2017-05-16       7.321    0.0     0.000         0.0        0.000000\n",
      "2017-08-16       7.321    3.0     0.000         3.0        0.000000\n",
      "2017-11-16       8.166    6.0     0.845         3.0        0.281667\n",
      "2018-02-16       8.917    9.0     0.751         3.0        0.250333\n",
      "2018-05-16       9.557   12.0     0.640         3.0        0.213333\n",
      "2018-11-16      10.365   18.0     0.808         6.0        0.134667\n",
      "2019-05-16      11.283   24.0     0.918         6.0        0.153000\n",
      "2019-11-16      12.007   30.0     0.724         6.0        0.120667\n",
      "2020-05-16      12.803   36.0     0.796         6.0        0.132667\n",
      "2021-05-16      13.248   48.0     0.445        12.0        0.037083\n",
      "2022-05-16      13.623   60.0     0.375        12.0        0.031250\n",
      "2024-05-16      14.229   84.0     0.606        24.0        0.025250\n",
      "2027-05-16      14.711  120.0     0.482        36.0        0.013389\n",
      "2032-05-16      15.460  180.0     0.749        60.0        0.012483\n",
      "2037-05-16      15.917  240.0     0.457        60.0        0.007617\n"
     ]
    }
   ],
   "source": [
    "df_ytm['diff_per_month'] = df_ytm['int_diff']/df_ytm['month_diff']\n",
    "df_ytm = df_ytm.fillna(0)\n",
    "print(df_ytm)"
   ]
  },
  {
   "cell_type": "code",
   "execution_count": 47,
   "id": "d7042fa2-eff0-4020-8e38-b512db0697d9",
   "metadata": {},
   "outputs": [
    {
     "name": "stdout",
     "output_type": "stream",
     "text": [
      "            ytm\n",
      "date           \n",
      "2017-05-16    0\n",
      "2017-06-16    0\n",
      "2017-07-16    0\n",
      "2017-08-16    0\n",
      "2017-09-16    0\n",
      "...         ...\n",
      "2027-01-16    0\n",
      "2027-02-16    0\n",
      "2027-03-16    0\n",
      "2027-04-16    0\n",
      "2027-05-16    0\n",
      "\n",
      "[121 rows x 1 columns]\n",
      "            2017-05-16  month  int_diff  month_diff  diff_per_month\n",
      "date                                                               \n",
      "2017-05-16       7.321    0.0     0.000         0.0        0.000000\n",
      "2017-08-16       7.321    3.0     0.000         3.0        0.000000\n",
      "2017-11-16       8.166    6.0     0.845         3.0        0.281667\n",
      "2018-02-16       8.917    9.0     0.751         3.0        0.250333\n",
      "2018-05-16       9.557   12.0     0.640         3.0        0.213333\n",
      "2018-11-16      10.365   18.0     0.808         6.0        0.134667\n",
      "2019-05-16      11.283   24.0     0.918         6.0        0.153000\n",
      "2019-11-16      12.007   30.0     0.724         6.0        0.120667\n",
      "2020-05-16      12.803   36.0     0.796         6.0        0.132667\n",
      "2021-05-16      13.248   48.0     0.445        12.0        0.037083\n",
      "2022-05-16      13.623   60.0     0.375        12.0        0.031250\n",
      "2024-05-16      14.229   84.0     0.606        24.0        0.025250\n",
      "2027-05-16      14.711  120.0     0.482        36.0        0.013389\n",
      "2032-05-16      15.460  180.0     0.749        60.0        0.012483\n",
      "2037-05-16      15.917  240.0     0.457        60.0        0.007617\n"
     ]
    }
   ],
   "source": [
    "month_date = []\n",
    "month_diff = relativedelta(end_date, start_date).months + relativedelta(end_date, start_date).years*12 + 1 # 차이 금액이라서 1 더해야 정확한 구간\n",
    "\n",
    "for i in range(0, month_diff+1):\n",
    "    day = start_date + relativedelta(months = i)\n",
    "    month_date.append(day)\n",
    "\n",
    "month_ytm = pd.DataFrame({'date': month_date, 'ytm': 0})\n",
    "month_ytm = month_ytm.set_index('date')\n",
    "print(month_ytm)\n",
    "print(df_ytm)"
   ]
  },
  {
   "cell_type": "code",
   "execution_count": 48,
   "id": "39bdfbbc-9020-42e3-8a67-3c074e2fa814",
   "metadata": {},
   "outputs": [
    {
     "name": "stdout",
     "output_type": "stream",
     "text": [
      "                  ytm\n",
      "date                 \n",
      "2017-05-16   7.321000\n",
      "2017-06-16   7.321000\n",
      "2017-07-16   7.321000\n",
      "2017-08-16   7.321000\n",
      "2017-09-16   7.602667\n",
      "...               ...\n",
      "2027-01-16  14.657444\n",
      "2027-02-16  14.670833\n",
      "2027-03-16  14.684222\n",
      "2027-04-16  14.697611\n",
      "2027-05-16  14.711000\n",
      "\n",
      "[121 rows x 1 columns]\n"
     ]
    }
   ],
   "source": [
    "r_ytm = []\n",
    "for idx, i in enumerate(month_ytm.index):\n",
    "    for j in df_ytm.index:\n",
    "        if i == j:\n",
    "            r_temp = df_ytm.loc[j][target_date]\n",
    "            r_ytm.append(r_temp)\n",
    "            break\n",
    "        if i < j:\n",
    "            r_temp = r_ytm[idx-1] + df_ytm.loc[j]['diff_per_month']\n",
    "            r_ytm.append(r_temp)\n",
    "            break\n",
    "        else:\n",
    "            continue\n",
    "\n",
    "# print(r_ytm, len(r_ytm))\n",
    "\n",
    "month_ytm['ytm'] = r_ytm\n",
    "print(month_ytm)"
   ]
  },
  {
   "cell_type": "code",
   "execution_count": 99,
   "id": "c2477cd9-4f28-41aa-b9dd-0b55061919e3",
   "metadata": {},
   "outputs": [
    {
     "name": "stdout",
     "output_type": "stream",
     "text": [
      "                  ytm      eytm\n",
      "date                           \n",
      "2017-05-16   7.321000  0.072548\n",
      "2017-06-16   7.321000  0.072548\n",
      "2017-07-16   7.321000  0.072548\n",
      "2017-08-16   7.321000  0.072548\n",
      "2017-09-16   7.602667  0.075313\n",
      "...               ...       ...\n",
      "2027-01-16  14.657444  0.143953\n",
      "2027-02-16  14.670833  0.144082\n",
      "2027-03-16  14.684222  0.144211\n",
      "2027-04-16  14.697611  0.144340\n",
      "2027-05-16  14.711000  0.144469\n",
      "\n",
      "[121 rows x 2 columns]\n"
     ]
    }
   ],
   "source": [
    "r_exp = []\n",
    "for i in r_ytm:\n",
    "    r_temp = interval*np.log(1+(i/100)/interval)\n",
    "    r_exp.append(r_temp)\n",
    "\n",
    "# print(r_exp)\n",
    "month_ytm['eytm'] = r_exp\n",
    "print(month_ytm)"
   ]
  },
  {
   "cell_type": "code",
   "execution_count": 100,
   "id": "6d310452-506c-4aad-ace1-ec89ff35371d",
   "metadata": {},
   "outputs": [
    {
     "name": "stdout",
     "output_type": "stream",
     "text": [
      "[datetime.date(2017, 5, 16), datetime.date(2017, 8, 16), datetime.date(2017, 11, 16), datetime.date(2018, 2, 16), datetime.date(2018, 5, 16), datetime.date(2018, 8, 16), datetime.date(2018, 11, 16), datetime.date(2019, 2, 16), datetime.date(2019, 5, 16), datetime.date(2019, 8, 16), datetime.date(2019, 11, 16), datetime.date(2020, 2, 16), datetime.date(2020, 5, 16), datetime.date(2020, 8, 16), datetime.date(2020, 11, 16), datetime.date(2021, 2, 16), datetime.date(2021, 5, 16), datetime.date(2021, 8, 16), datetime.date(2021, 11, 16), datetime.date(2022, 2, 16), datetime.date(2022, 5, 16), datetime.date(2022, 8, 16), datetime.date(2022, 11, 16), datetime.date(2023, 2, 16), datetime.date(2023, 5, 16), datetime.date(2023, 8, 16), datetime.date(2023, 11, 16), datetime.date(2024, 2, 16), datetime.date(2024, 5, 16), datetime.date(2024, 8, 16), datetime.date(2024, 11, 16), datetime.date(2025, 2, 16), datetime.date(2025, 5, 16), datetime.date(2025, 8, 16), datetime.date(2025, 11, 16), datetime.date(2026, 2, 16), datetime.date(2026, 5, 16), datetime.date(2026, 8, 16), datetime.date(2026, 11, 16), datetime.date(2027, 2, 16), datetime.date(2027, 5, 16)] 41\n",
      "[7.321, 7.321, 8.166, 8.917, 9.557, 9.960999999999999, 10.365, 10.824000000000002, 11.283, 11.645, 12.007, 12.405000000000001, 12.803, 12.914250000000001, 13.025500000000001, 13.136750000000001, 13.248, 13.34175, 13.4355, 13.52925, 13.623, 13.698749999999999, 13.774499999999998, 13.850249999999997, 13.925999999999997, 14.001749999999996, 14.077499999999995, 14.153249999999995, 14.229, 14.269166666666665, 14.309333333333331, 14.349499999999997, 14.389666666666663, 14.42983333333333, 14.469999999999995, 14.510166666666661, 14.550333333333327, 14.590499999999993, 14.63066666666666, 14.670833333333325, 14.711] 41\n"
     ]
    }
   ],
   "source": [
    "q_date = []\n",
    "q_ytm_lst = []\n",
    "\n",
    "for i in month_ytm.index:\n",
    "    if relativedelta(i, start_date).months % 3 == 0:\n",
    "        q_date.append(i)\n",
    "        q_ytm_lst.append(month_ytm.loc[i,'ytm'])\n",
    "\n",
    "# print(q_date, len(q_date))\n",
    "# print(q_ytm_lst, len(q_ytm_lst))"
   ]
  },
  {
   "cell_type": "code",
   "execution_count": 111,
   "id": "397be443-4e34-4d8c-9b72-fbc83e5b6388",
   "metadata": {},
   "outputs": [
    {
     "name": "stdout",
     "output_type": "stream",
     "text": [
      "                  ytm       spt\n",
      "date                           \n",
      "2017-05-16   7.321000  0.072548\n",
      "2017-08-16   7.321000  0.072548\n",
      "2017-11-16   8.166000  0.085982\n",
      "2018-02-16   8.917000  0.096944\n",
      "2018-05-16   9.557000  0.105709\n",
      "2018-08-16   9.961000  0.108192\n",
      "2018-11-16  10.365000  0.114507\n",
      "2019-02-16  10.824000  0.123292\n",
      "2019-05-16  11.283000  0.130757\n",
      "2019-08-16  11.645000  0.132799\n",
      "2019-11-16  12.007000  0.138798\n",
      "2020-02-16  12.405000  0.147473\n",
      "2020-05-16  12.803000  0.154417\n",
      "2020-08-16  12.914250  0.137055\n",
      "2020-11-16  13.025500  0.138957\n",
      "2021-02-16  13.136750  0.140889\n",
      "2021-05-16  13.248000  0.142860\n",
      "2021-08-16  13.341750  0.142865\n",
      "2021-11-16  13.435500  0.144560\n",
      "2022-02-16  13.529250  0.146285\n",
      "2022-05-16  13.623000  0.148047\n",
      "2022-08-16  13.698750  0.147150\n",
      "2022-11-16  13.774500  0.148604\n",
      "2023-02-16  13.850250  0.150087\n",
      "2023-05-16  13.926000  0.151601\n",
      "2023-08-16  14.001750  0.153144\n",
      "2023-11-16  14.077500  0.154720\n",
      "2024-02-16  14.153250  0.156332\n",
      "2024-05-16  14.229000  0.157983\n",
      "2024-08-16  14.269167  0.151242\n",
      "2024-11-16  14.309333  0.152111\n",
      "2025-02-16  14.349500  0.152998\n",
      "2025-05-16  14.389667  0.153902\n",
      "2025-08-16  14.429833  0.154827\n",
      "2025-11-16  14.470000  0.155773\n",
      "2026-02-16  14.510167  0.156742\n",
      "2026-05-16  14.550333  0.157730\n",
      "2026-08-16  14.590500  0.158747\n",
      "2026-11-16  14.630667  0.159791\n",
      "2027-02-16  14.670833  0.160863\n",
      "2027-05-16  14.711000  0.161959\n"
     ]
    }
   ],
   "source": [
    "q_spt = []\n",
    "sum_ytm = []\n",
    "temp_sum = 0\n",
    "\n",
    "for idx, i in enumerate(q_date):  \n",
    "    if idx == 0:\n",
    "        q_spt.append(month_ytm.loc[i,'eytm'])\n",
    "        sum_ytm.append(0)\n",
    "        continue\n",
    "#     print(\"loop: \", idx)\n",
    "#     print(q_ytm_lst[idx])\n",
    "#     print(q_date[idx])\n",
    "#     print((q_date[idx] - start_date).days)\n",
    "    for j in range(1, idx+1):\n",
    "#         temp_sum += 1/(1 + q_ytm_lst[idx]/100)**((q_date[j] - start_date).days/365) # 연속복리 아닐 경우\n",
    "        temp_sum += math.exp(-(q_ytm_lst[idx]/100)*((q_date[j] - start_date).days/365)) # 연속복리\n",
    "    sum_ytm.append( temp_sum )\n",
    "    temp_sum = 0\n",
    "    if idx == 1:\n",
    "        q_spt.append(month_ytm.loc[i,'eytm'])\n",
    "    else:\n",
    "        temp = sum_ytm[idx] - sum_ytm[idx-1] # spot rate 계산을 위한 ytm 할인 쿠폰합(당기 채권가격) - spot 할인 쿠폰합(전기 채권가격)\n",
    "        l_days = (q_date[idx] - start_date).days # 현재 시기와 발행일자간의 차이\n",
    "#         q_spt.append( (1/temp)**(365/l_days)-1 ) # 연속복리 아닐 경우\n",
    "        q_spt.append( -np.log(temp)*(365/l_days) ) # 연속복리\n",
    "    \n",
    "#     print(\"temp: \", temp)\n",
    "#     print(\"sum_ytm: \", sum_ytm)\n",
    "#     print(\"sum_spt: \",sum_spt, \" spt%: \", q_spt)\n",
    "\n",
    "# print(q_spt)\n",
    "\n",
    "q_rates = pd.DataFrame({'date': q_date, 'ytm': q_ytm_lst, 'spt': q_spt})\n",
    "q_rates = q_rates.set_index('date')\n",
    "\n",
    "print(q_rates)"
   ]
  },
  {
   "cell_type": "code",
   "execution_count": null,
   "id": "e555d4f5-e9bd-44f5-8f90-cb9435f203e6",
   "metadata": {},
   "outputs": [],
   "source": []
  }
 ],
 "metadata": {
  "kernelspec": {
   "display_name": "Python 3 (ipykernel)",
   "language": "python",
   "name": "python3"
  },
  "language_info": {
   "codemirror_mode": {
    "name": "ipython",
    "version": 3
   },
   "file_extension": ".py",
   "mimetype": "text/x-python",
   "name": "python",
   "nbconvert_exporter": "python",
   "pygments_lexer": "ipython3",
   "version": "3.9.6"
  }
 },
 "nbformat": 4,
 "nbformat_minor": 5
}
